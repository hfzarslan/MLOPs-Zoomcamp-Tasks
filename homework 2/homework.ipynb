{
 "cells": [
  {
   "cell_type": "code",
   "execution_count": 1,
   "id": "e52d2e10-95b7-4fa0-b66a-1517c971469a",
   "metadata": {},
   "outputs": [
    {
     "name": "stdout",
     "output_type": "stream",
     "text": [
      "mlflow, version 1.25.1\n"
     ]
    }
   ],
   "source": [
    "!mlflow --version\n"
   ]
  },
  {
   "cell_type": "code",
   "execution_count": 2,
   "id": "cae95417-b777-4b1c-a564-651810aa4770",
   "metadata": {},
   "outputs": [],
   "source": [
    "!python homework/preprocess_data.py --raw_data_path data --dest_path ./output"
   ]
  },
  {
   "cell_type": "code",
   "execution_count": 3,
   "id": "ee93a2ad-808d-45e7-a4aa-5e296c39d618",
   "metadata": {},
   "outputs": [],
   "source": [
    "!python homework/train.py"
   ]
  },
  {
   "cell_type": "code",
   "execution_count": 21,
   "id": "c0b3801e-90eb-49f0-b5d8-5cff8b8411dd",
   "metadata": {},
   "outputs": [
    {
     "name": "stdout",
     "output_type": "stream",
     "text": [
      "100%|█████████| 50/50 [09:05<00:00, 10.91s/trial, best loss: 6.6284257482044735]\n"
     ]
    }
   ],
   "source": [
    "!python homework/hpo.py"
   ]
  },
  {
   "cell_type": "code",
   "execution_count": null,
   "id": "6a5c5dd8-558e-4ecd-8cfb-e4970564a942",
   "metadata": {},
   "outputs": [],
   "source": [
    "!python homework/register_model.py"
   ]
  },
  {
   "cell_type": "code",
   "execution_count": null,
   "id": "a5d81ec9-91f5-4f90-be0a-02fe7ab3b374",
   "metadata": {},
   "outputs": [],
   "source": []
  }
 ],
 "metadata": {
  "kernelspec": {
   "display_name": "Python 3 (ipykernel)",
   "language": "python",
   "name": "python3"
  },
  "language_info": {
   "codemirror_mode": {
    "name": "ipython",
    "version": 3
   },
   "file_extension": ".py",
   "mimetype": "text/x-python",
   "name": "python",
   "nbconvert_exporter": "python",
   "pygments_lexer": "ipython3",
   "version": "3.8.12"
  }
 },
 "nbformat": 4,
 "nbformat_minor": 5
}
